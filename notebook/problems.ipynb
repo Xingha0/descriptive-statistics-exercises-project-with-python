{
    "cells": [
        {
            "cell_type": "markdown",
            "id": "ac622319",
            "metadata": {},
            "source": [
                "# Descriptive statistics problems"
            ]
        },
        {
            "cell_type": "markdown",
            "id": "5e0ab0d5",
            "metadata": {},
            "source": [
                "### Exercise 1\n",
                "\n",
                "We will use NumPy to obtain information to describe statistically.\n",
                "\n",
                "- Generate an array of 100 elements following a normal distribution.\n",
                "- Generate an array of 100 elements following a chi-square distribution with 3 degrees of freedom.\n",
                "- Calculate the main metrics and statistical measures that best describe the two vectors."
            ]
        },
        {
            "cell_type": "code",
            "execution_count": 1,
            "id": "34720ab6",
            "metadata": {},
            "outputs": [],
            "source": [
                "import numpy as np\n",
                "import statistics as stats\n",
                "from scipy.stats import skew\n",
                "from scipy.stats import kurtosis\n",
                "\n",
                "array_1 = np.random.normal(size = 100)\n",
                "array_2 = np.random.chisquare(3,100)\n",
                "\n",
                "# Normal\n",
                "mean_array_1 = stats.mean(array_1).round(2)\n",
                "print(\"Normal distribution mean\", mean_array_1)\n",
                "median_array_1 = stats.median(array_1).round(2)\n",
                "print(\"Normal distribution median\", median_array_1)\n",
                "mode_array_1 = stats.mode(array_1).round(2)\n",
                "print(\"Normal distribution mode\", mode_array_1)\n",
                "range_array_1 = max(array_1)-min(array_1)\n",
                "print(\"Normal distribution range\", range_array_1.round(2))\n",
                "variance_array_1 = stats.variance(array_1).round(2)\n",
                "print(\"Normal distribution variance\", variance_array_1)\n",
                "std_dev_array_1 = stats.stdev(array_1)\n",
                "print(\"Normal distribution std deviation\", std_dev_array_1)\n",
                "skewness_array_1 = skew(array_1).round(2)\n",
                "print(\"Normal distribution skewness\", skewness_array_1)\n",
                "kurtosis_array_1 = kurtosis(array_1).round(2)\n",
                "print(\"Normal distribution kurtosis\", kurtosis_array_1)\n",
                "\n",
                "# Chi-square\n",
                "mean_array_2=stats.mean(array_2).round(2)\n",
                "print(\"Chi-square distribution mean\", mean_array_2)\n",
                "median_array_2=stats.median(array_2).round(2)\n",
                "print(\"Chi-square distribution median\", median_array_2)\n",
                "mode_array_2=stats.mode(array_2).round(2)\n",
                "print(\"Chi-square distribution mode\", mode_array_2)\n",
                "range_array_2=max(array_2)-min(array_2)\n",
                "print(\"Chi-square distribution range\", range_array_2.round(2))\n",
                "variance_array_2=stats.variance(array_2).round(2)\n",
                "print(\"Chi-square distribution variance\", variance_array_2)\n",
                "std_dev_array_2=stats.stdev(array_2)\n",
                "print(\"Chi-square distribution std deviation\", std_dev_array_2)\n",
                "skewness_array_2=skew(array_2).round(2)\n",
                "print(\"Chi-square distribution skewness\", skewness_array_2)\n",
                "from scipy.stats import kurtosis\n",
                "kurtosis_array_2=kurtosis(array_2).round(2)\n",
                "print(\"Chi-square distribution kurtosis\", kurtosis_array_2)"
            ]
        },
        {
            "cell_type": "markdown",
            "id": "46c70c3d",
            "metadata": {},
            "source": [
                "### Exercise 2\n",
                "\n",
                "Write a Python program to calculate the standard deviation of the following data:\n",
                "\n",
                "```py\n",
                "data = [4, 2, 5, 8, 6]\n",
                "```"
            ]
        },
        {
            "cell_type": "code",
            "execution_count": 2,
            "id": "d590308e",
            "metadata": {},
            "outputs": [],
            "source": [
                "data = [4,2,5,8,6]\n",
                "\n",
                "def promedio(lista):\n",
                "    suma = 0\n",
                "    for numero in lista:\n",
                "        suma += numero\n",
                "    return suma/len(lista)\n",
                "\n",
                "def std_dev(lista):\n",
                "    suma = 0\n",
                "    for numero in lista:\n",
                "        suma += (numero-promedio(lista))**2\n",
                "    varianza = suma/(len(lista)-1)\n",
                "    return varianza**(1/2)\n",
                "\n",
                "print(\"La desviación standard es:\",std_dev(data))"
            ]
        }
    ],
    "metadata": {
        "interpreter": {
            "hash": "9248718ffe6ce6938b217e69dbcc175ea21f4c6b28a317e96c05334edae734bb"
        },
        "kernelspec": {
            "display_name": "Python 3.9.12 ('ML-BOOTCAMP')",
            "language": "python",
            "name": "python3"
        },
        "language_info": {
            "codemirror_mode": {
                "name": "ipython",
                "version": 3
            },
            "file_extension": ".py",
            "mimetype": "text/x-python",
            "name": "python",
            "nbconvert_exporter": "python",
            "pygments_lexer": "ipython3",
            "version": "3.11.4"
        }
    },
    "nbformat": 4,
    "nbformat_minor": 5
}
